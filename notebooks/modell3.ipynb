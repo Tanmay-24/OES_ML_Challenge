{
 "cells": [
  {
   "cell_type": "code",
   "execution_count": 1,
   "metadata": {},
   "outputs": [],
   "source": [
    "import pandas as pd"
   ]
  },
  {
   "cell_type": "code",
   "execution_count": 2,
   "metadata": {},
   "outputs": [],
   "source": [
    "\n",
    "df=pd.read_csv('tanmay_data_best.csv')\n",
    "df2=pd.read_csv('valid_tanmay_data_best.csv')"
   ]
  },
  {
   "cell_type": "code",
   "execution_count": 3,
   "metadata": {},
   "outputs": [
    {
     "data": {
      "text/plain": [
       "Index(['create_dt', 'mdm_object_name', 'mdm_model_id', 'lon', 'lat', 'alt',\n",
       "       'speed_gps', 'direction', 'accel_forward_nn', 'accel_braking_nn',\n",
       "       'accel_angular_nn', 'accel_vertical_nn', 'format', 'minutes', 'hour',\n",
       "       'day_of_week', 'is_weekend', 'month', 'quarter', 'time_of_day',\n",
       "       'time_since_midnight', 'prev_lat', 'prev_lon', 'distance',\n",
       "       'cumulative_distance', 'prev_direction', 'heading_change',\n",
       "       'elevation_change', 'elevation_change_rate', 'is_stopped',\n",
       "       'stop_duration', 'speed_gps_rolling_mean', 'speed_gps_rolling_std',\n",
       "       'accel_forward_nn_rolling_mean', 'accel_forward_nn_rolling_std',\n",
       "       'accel_braking_nn_rolling_mean', 'accel_braking_nn_rolling_std',\n",
       "       'accel_angular_nn_rolling_mean', 'accel_angular_nn_rolling_std',\n",
       "       'accel_vertical_nn_rolling_mean', 'accel_vertical_nn_rolling_std'],\n",
       "      dtype='object')"
      ]
     },
     "execution_count": 3,
     "metadata": {},
     "output_type": "execute_result"
    }
   ],
   "source": [
    "df2.columns"
   ]
  },
  {
   "cell_type": "code",
   "execution_count": 7,
   "metadata": {},
   "outputs": [],
   "source": [
    "df_head=df2.head()"
   ]
  },
  {
   "cell_type": "markdown",
   "metadata": {},
   "source": [
    "########## **PREPROCESSING** ##########"
   ]
  },
  {
   "cell_type": "code",
   "execution_count": 10,
   "metadata": {},
   "outputs": [],
   "source": [
    "rolling_columns = ['speed_gps_rolling_mean', 'speed_gps_rolling_std', 'accel_forward_nn_rolling_mean', \n",
    "                   'accel_forward_nn_rolling_std', 'accel_braking_nn_rolling_mean', 'accel_braking_nn_rolling_std',\n",
    "                   'accel_angular_nn_rolling_mean', 'accel_angular_nn_rolling_std', 'accel_vertical_nn_rolling_mean',\n",
    "                   'accel_vertical_nn_rolling_std']\n",
    "\n"
   ]
  },
  {
   "cell_type": "code",
   "execution_count": 11,
   "metadata": {},
   "outputs": [],
   "source": [
    "from sklearn.preprocessing import MinMaxScaler, StandardScaler\n",
    "scaler = MinMaxScaler() \n",
    "scaler2=StandardScaler()\n",
    "from sklearn.preprocessing import OneHotEncoder\n",
    "min_man_columns = ['minutes', 'hour', 'day_of_week', 'month', 'quarter','lon', 'lat','prev_lon', 'prev_lat', 'distance', 'cumulative_distance']\n",
    "stand_scaler_columns = ['time_since_midnight','accel_forward_nn', 'accel_braking_nn', 'accel_angular_nn', 'accel_vertical_nn',\n",
    "                        'elevation_change', 'elevation_change_rate']\n",
    "needs_encoding = ['time_of_day','mdm_object_name', 'mdm_model_id']\n",
    "df[min_man_columns] = scaler.fit_transform(df[min_man_columns])\n",
    "df[stand_scaler_columns]=scaler2.fit_transform(df[stand_scaler_columns])\n"
   ]
  },
  {
   "cell_type": "code",
   "execution_count": 14,
   "metadata": {},
   "outputs": [],
   "source": [
    "import numpy as np\n",
    "\n",
    "# Cyclical transformations for directional features\n",
    "df['sin_direction'] = np.sin(np.deg2rad(df['direction']))\n",
    "df['cos_direction'] = np.cos(np.deg2rad(df['direction']))\n",
    "\n",
    "df['sin_prev_direction'] = np.sin(np.deg2rad(df['prev_direction']))\n",
    "df['cos_prev_direction'] = np.cos(np.deg2rad(df['prev_direction']))\n",
    "\n",
    "df['sin_heading_change'] = np.sin(np.deg2rad(df['heading_change']))\n",
    "df['cos_heading_change'] = np.cos(np.deg2rad(df['heading_change']))\n"
   ]
  },
  {
   "cell_type": "code",
   "execution_count": 15,
   "metadata": {},
   "outputs": [],
   "source": [
    "\n",
    "missing_cols = df.columns[df.isnull().any()]"
   ]
  },
  {
   "cell_type": "code",
   "execution_count": 16,
   "metadata": {},
   "outputs": [],
   "source": [
    "df[missing_cols] = df[missing_cols].dropna(subset=missing_cols)"
   ]
  },
  {
   "cell_type": "code",
   "execution_count": 17,
   "metadata": {},
   "outputs": [],
   "source": [
    "df.to_csv('tanmay_best_data_cleaned.csv', index=False)"
   ]
  },
  {
   "cell_type": "code",
   "execution_count": null,
   "metadata": {},
   "outputs": [],
   "source": []
  }
 ],
 "metadata": {
  "kernelspec": {
   "display_name": "amazon_ml",
   "language": "python",
   "name": "python3"
  },
  "language_info": {
   "codemirror_mode": {
    "name": "ipython",
    "version": 3
   },
   "file_extension": ".py",
   "mimetype": "text/x-python",
   "name": "python",
   "nbconvert_exporter": "python",
   "pygments_lexer": "ipython3",
   "version": "3.9.18"
  }
 },
 "nbformat": 4,
 "nbformat_minor": 2
}
