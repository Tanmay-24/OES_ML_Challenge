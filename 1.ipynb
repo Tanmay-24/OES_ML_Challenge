{
 "cells": [
  {
   "cell_type": "code",
   "execution_count": 1,
   "metadata": {},
   "outputs": [],
   "source": [
    "import pandas as pd"
   ]
  },
  {
   "cell_type": "code",
   "execution_count": 2,
   "metadata": {},
   "outputs": [],
   "source": [
    "df_lables=pd.read_csv(\"dataset/operations_labels_training.csv\")\n",
    "df_train=pd.read_csv(\"dataset/telemetry_for_operations_training.csv\")"
   ]
  },
  {
   "cell_type": "code",
   "execution_count": 3,
   "metadata": {},
   "outputs": [],
   "source": [
    "\n",
    "# Check if the format is 'YYYY-MM-DD HH:MM:SS'\n",
    "def check_format(date_str):\n",
    "    # Try to convert to datetime with a specific format\n",
    "    try:\n",
    "        pd.to_datetime(date_str, format='%Y-%m-%d %H:%M:%S')\n",
    "        return 'datetime'\n",
    "    except ValueError:\n",
    "        try:\n",
    "            pd.to_datetime(date_str, format='%Y-%m-%d')\n",
    "            return 'date'\n",
    "        except ValueError:\n",
    "            return 'invalid'\n",
    "\n",
    "# Apply the function to the 'create_dt' column\n",
    "df_train['format'] = df_train['create_dt'].apply(check_format)"
   ]
  },
  {
   "cell_type": "code",
   "execution_count": 4,
   "metadata": {},
   "outputs": [],
   "source": [
    "# Display the rows with 'date' or 'invalid' format\n",
    "df_train=df_train.drop(df_train[df_train['format'] != 'datetime'].index)\n"
   ]
  },
  {
   "cell_type": "code",
   "execution_count": 5,
   "metadata": {},
   "outputs": [
    {
     "data": {
      "text/plain": [
       "0         1498\n",
       "1         1498\n",
       "2         1498\n",
       "3         1498\n",
       "4         1498\n",
       "          ... \n",
       "516068     119\n",
       "516069     119\n",
       "516070     119\n",
       "516071     119\n",
       "516072     119\n",
       "Name: mdm_object_name, Length: 516062, dtype: int64"
      ]
     },
     "execution_count": 5,
     "metadata": {},
     "output_type": "execute_result"
    }
   ],
   "source": [
    "df_train['mdm_object_name']"
   ]
  },
  {
   "cell_type": "code",
   "execution_count": 6,
   "metadata": {},
   "outputs": [
    {
     "name": "stderr",
     "output_type": "stream",
     "text": [
      "/tmp/ipykernel_21140/3550935515.py:12: DeprecationWarning: DataFrameGroupBy.apply operated on the grouping columns. This behavior is deprecated, and in a future version of pandas the grouping columns will be excluded from the operation. Either pass `include_groups=False` to exclude the groupings or explicitly select the grouping columns after groupby to silence this warning.\n",
      "  train = df_train.groupby('mdm_object_name').apply(assign_labels)\n"
     ]
    },
    {
     "name": "stdout",
     "output_type": "stream",
     "text": [
      "operation_kind_id\n",
      "2.0    235243\n",
      "5.0    162838\n",
      "0.0     69217\n",
      "1.0     30780\n",
      "NaN     12968\n",
      "3.0      5016\n",
      "Name: count, dtype: int64\n"
     ]
    }
   ],
   "source": [
    "def assign_labels(group):\n",
    "    object_labels = df_lables[df_lables['mdm_object_name'] == group.name]\n",
    "    \n",
    "    for _, row in object_labels.iterrows():\n",
    "        mask = (group['create_dt'] > row['start_time']) & (group['create_dt'] < row['end_time'])\n",
    "        group.loc[mask, 'operation_kind_id'] = row['operation_kind_id']\n",
    "        group.loc[mask, 'name'] = row['name']\n",
    "    \n",
    "    return group\n",
    "\n",
    "# Apply the function to each group of mdm_object_name\n",
    "train = df_train.groupby('mdm_object_name').apply(assign_labels)\n",
    "\n",
    "# Verify the results\n",
    "print(train['operation_kind_id'].value_counts(dropna=False))\n",
    "\n",
    "# Save the updated DataFrame\n",
    "train.to_csv('train_with_labels.csv', index=False)"
   ]
  },
  {
   "cell_type": "code",
   "execution_count": null,
   "metadata": {},
   "outputs": [],
   "source": []
  }
 ],
 "metadata": {
  "kernelspec": {
   "display_name": "amazon_ml",
   "language": "python",
   "name": "python3"
  },
  "language_info": {
   "codemirror_mode": {
    "name": "ipython",
    "version": 3
   },
   "file_extension": ".py",
   "mimetype": "text/x-python",
   "name": "python",
   "nbconvert_exporter": "python",
   "pygments_lexer": "ipython3",
   "version": "3.9.18"
  }
 },
 "nbformat": 4,
 "nbformat_minor": 2
}
