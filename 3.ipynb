{
 "cells": [
  {
   "cell_type": "code",
   "execution_count": 1,
   "metadata": {},
   "outputs": [
    {
     "name": "stderr",
     "output_type": "stream",
     "text": [
      "/tmp/ipykernel_25256/973936516.py:38: DeprecationWarning: DataFrameGroupBy.apply operated on the grouping columns. This behavior is deprecated, and in a future version of pandas the grouping columns will be excluded from the operation. Either pass `include_groups=False` to exclude the groupings or explicitly select the grouping columns after groupby to silence this warning.\n",
      "  valid = valid.groupby('mdm_object_name').apply(assign_operation_kind_id)\n"
     ]
    },
    {
     "name": "stdout",
     "output_type": "stream",
     "text": [
      "operation_kind_id\n",
      "4    260111\n",
      "Name: count, dtype: int64\n",
      "Percentage of date-only entries: 100.00%\n"
     ]
    }
   ],
   "source": [
    "import pandas as pd \n",
    "import numpy as np\n",
    "\n",
    "#valid = pd.read_csv('dataset/telemetry_for_operations_validing.csv')\n",
    "valid = pd.read_csv('dataset/telemetry_for_operations_validation.csv')\n",
    "label = pd.read_csv('dataset/operations_labels_training.csv')\n",
    "\n",
    "\n",
    "def safe_to_datetime(date_str):\n",
    "    try:\n",
    "        return pd.to_datetime(date_str)\n",
    "    except:\n",
    "        return pd.to_datetime(date_str, format='%Y-%m-%d')\n",
    "\n",
    "# Convert timestamp columns to datetime\n",
    "valid['create_dt'] = valid['create_dt'].apply(safe_to_datetime)\n",
    "label['start_time'] = pd.to_datetime(label['start_time'])\n",
    "label['end_time'] = pd.to_datetime(label['end_time'])\n",
    "\n",
    "# As 4 is not assigned to anyone i m assing it invalid operation_kind_id\n",
    "valid['operation_kind_id'] = 4\n",
    "\n",
    "#datetime_mask = valid['create_dt'].notna() & (valid['create_dt'].dt.time != pd.Timestamp('00:00:00').time())\n",
    "\n",
    "# Sort both DataFrames by mdm_object_name and timestamp for efficient processing\n",
    "valid = valid.sort_values(['mdm_object_name', 'create_dt'])\n",
    "label = label.sort_values(['mdm_object_name', 'start_time'])\n",
    "\n",
    "def assign_operation_kind_id(group):\n",
    "    object_labels = label[label['mdm_object_name'] == group.name]\n",
    "    \n",
    "    for _, row in object_labels.iterrows():\n",
    "        mask = (group['create_dt'] > row['start_time']) & (group['create_dt'] < row['end_time']) #& datetime_mask\n",
    "        group.loc[mask, 'operation_kind_id'] = row['operation_kind_id']\n",
    "    \n",
    "    return group\n",
    "\n",
    "valid = valid.groupby('mdm_object_name').apply(assign_operation_kind_id)\n",
    "\n",
    "print(valid['operation_kind_id'].value_counts(dropna=False))\n",
    "\n",
    "# Optional: Check the percentage of date-only entries (where operation_kind_id is still 4)\n",
    "date_only_percentage = (valid['operation_kind_id'] == 4).mean() * 100\n",
    "print(f\"Percentage of date-only entries: {date_only_percentage:.2f}%\")\n",
    "\n",
    "valid.to_csv('valid_with_operation_kind_id.csv', index=False)"
   ]
  },
  {
   "cell_type": "code",
   "execution_count": null,
   "metadata": {},
   "outputs": [],
   "source": []
  }
 ],
 "metadata": {
  "kernelspec": {
   "display_name": "amazon_ml",
   "language": "python",
   "name": "python3"
  },
  "language_info": {
   "codemirror_mode": {
    "name": "ipython",
    "version": 3
   },
   "file_extension": ".py",
   "mimetype": "text/x-python",
   "name": "python",
   "nbconvert_exporter": "python",
   "pygments_lexer": "ipython3",
   "version": "3.9.18"
  }
 },
 "nbformat": 4,
 "nbformat_minor": 2
}
