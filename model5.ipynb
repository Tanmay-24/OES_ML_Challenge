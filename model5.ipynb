{
 "cells": [
  {
   "cell_type": "code",
   "execution_count": 1,
   "metadata": {},
   "outputs": [
    {
     "name": "stderr",
     "output_type": "stream",
     "text": [
      "2024-09-29 20:42:51.690082: E external/local_xla/xla/stream_executor/cuda/cuda_fft.cc:485] Unable to register cuFFT factory: Attempting to register factory for plugin cuFFT when one has already been registered\n",
      "2024-09-29 20:42:52.005076: E external/local_xla/xla/stream_executor/cuda/cuda_dnn.cc:8454] Unable to register cuDNN factory: Attempting to register factory for plugin cuDNN when one has already been registered\n",
      "2024-09-29 20:42:52.093770: E external/local_xla/xla/stream_executor/cuda/cuda_blas.cc:1452] Unable to register cuBLAS factory: Attempting to register factory for plugin cuBLAS when one has already been registered\n",
      "2024-09-29 20:42:52.584146: I tensorflow/core/platform/cpu_feature_guard.cc:210] This TensorFlow binary is optimized to use available CPU instructions in performance-critical operations.\n",
      "To enable the following instructions: AVX2 FMA, in other operations, rebuild TensorFlow with the appropriate compiler flags.\n",
      "2024-09-29 20:42:59.436098: W tensorflow/compiler/tf2tensorrt/utils/py_utils.cc:38] TF-TRT Warning: Could not find TensorRT\n"
     ]
    }
   ],
   "source": [
    "import numpy as np\n",
    "import pandas as pd\n",
    "from sklearn.preprocessing import MinMaxScaler\n",
    "from tensorflow.keras.models import Sequential\n",
    "from tensorflow.keras.layers import Dense\n",
    "from tcn import TCN\n"
   ]
  },
  {
   "cell_type": "code",
   "execution_count": 2,
   "metadata": {},
   "outputs": [],
   "source": [
    "df=pd.read_csv('tanmay_best_data_cleaned.csv')"
   ]
  },
  {
   "cell_type": "code",
   "execution_count": 4,
   "metadata": {},
   "outputs": [],
   "source": [
    "df.drop(columns=['create_dt','time_of_day'],inplace=True)"
   ]
  },
  {
   "cell_type": "code",
   "execution_count": null,
   "metadata": {},
   "outputs": [],
   "source": [
    "df.sortby('create_dt',inplace=True)"
   ]
  },
  {
   "cell_type": "code",
   "execution_count": 5,
   "metadata": {},
   "outputs": [],
   "source": [
    "import numpy as np\n",
    "\n",
    "def create_sequences(data, target_column, window_size):\n",
    "    X, y = [], []\n",
    "    for i in range(len(data) - window_size):\n",
    "        X.append(data.iloc[i:i + window_size].drop(columns=[target_column]).values)\n",
    "        y.append(data.iloc[i + window_size][target_column])\n",
    "    return np.array(X), np.array(y)\n",
    "\n",
    "# Define the window size (e.g., 30 time steps)\n",
    "window_size = 30\n",
    "\n",
    "# Create sequences from the DataFrame\n",
    "X, y = create_sequences(df, target_column='operation_kind_id', window_size=window_size)\n"
   ]
  },
  {
   "cell_type": "code",
   "execution_count": null,
   "metadata": {},
   "outputs": [],
   "source": [
    "import tensorflow as tf\n",
    "from tensorflow.keras import layers, models\n",
    "\n",
    "# Define the TCN model\n",
    "def build_tcn_model(input_shape, num_classes):\n",
    "    model = models.Sequential()\n",
    "\n",
    "    # Temporal Convolutional Layers\n",
    "    model.add(layers.Conv1D(filters=64, kernel_size=2, dilation_rate=1, padding='causal', activation='relu', input_shape=input_shape))\n",
    "    model.add(layers.Conv1D(filters=64, kernel_size=2, dilation_rate=2, padding='causal', activation='relu'))\n",
    "    model.add(layers.Conv1D(filters=64, kernel_size=2, dilation_rate=4, padding='causal', activation='relu'))\n",
    "\n",
    "    # Global Average Pooling\n",
    "    model.add(layers.GlobalAveragePooling1D())\n",
    "\n",
    "    # Fully Connected Layer\n",
    "    model.add(layers.Dense(128, activation='relu'))\n",
    "    model.add(layers.Dropout(0.2))\n",
    "\n",
    "    # Output Layer for multi-class classification\n",
    "    model.add(layers.Dense(num_classes, activation='softmax'))\n",
    "\n",
    "    # Compile the model\n",
    "    model.compile(optimizer='adam', loss='sparse_categorical_crossentropy', metrics=['accuracy'])\n",
    "\n",
    "    return model\n",
    "\n",
    "# Model input shape: (window_size, number of features)\n",
    "input_shape = (X.shape[1], X.shape[2])\n",
    "num_classes = len(np.unique(y))\n",
    "\n",
    "# Build the model\n",
    "tcn_model = build_tcn_model(input_shape, num_classes)\n",
    "\n",
    "# Train the model\n",
    "tcn_model.fit(X, y, epochs=10, batch_size=64, validation_split=0.2)\n"
   ]
  }
 ],
 "metadata": {
  "kernelspec": {
   "display_name": "amazon_ml",
   "language": "python",
   "name": "python3"
  },
  "language_info": {
   "codemirror_mode": {
    "name": "ipython",
    "version": 3
   },
   "file_extension": ".py",
   "mimetype": "text/x-python",
   "name": "python",
   "nbconvert_exporter": "python",
   "pygments_lexer": "ipython3",
   "version": "3.9.18"
  }
 },
 "nbformat": 4,
 "nbformat_minor": 2
}
